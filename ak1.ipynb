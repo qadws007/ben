{
 "cells": [
  {
   "cell_type": "code",
   "execution_count": 3,
   "metadata": {
    "collapsed": true
   },
   "outputs": [
    {
     "data": {
      "text/plain": "           date   open   high    low  close       volume  outstanding_share  \\\n0    2000-01-04   3.33   3.53   3.27   3.48    8216100.0       1.070910e+09   \n1    2000-01-05   3.49   3.59   3.43   3.44    9399300.0       1.070910e+09   \n2    2000-01-06   3.43   3.63   3.38   3.57   12022200.0       1.070910e+09   \n3    2000-01-07   3.62   3.76   3.60   3.72   22934600.0       1.070910e+09   \n4    2000-01-10   3.77   3.90   3.76   3.83   18521100.0       1.070910e+09   \n...         ...    ...    ...    ...    ...          ...                ...   \n5093 2021-09-06  17.93  18.60  17.78  18.45  151522556.0       1.940575e+10   \n5094 2021-09-07  18.60  19.56  18.35  19.24  162234416.0       1.940575e+10   \n5095 2021-09-08  19.24  19.55  19.10  19.23  102620105.0       1.940575e+10   \n5096 2021-09-09  19.11  19.15  18.80  19.00   73950585.0       1.940575e+10   \n5097 2021-09-10  18.89  20.77  18.84  20.57  231494528.0       1.940575e+10   \n\n      turnover  \n0     0.007672  \n1     0.008777  \n2     0.011226  \n3     0.021416  \n4     0.017295  \n...        ...  \n5093  0.007808  \n5094  0.008360  \n5095  0.005288  \n5096  0.003811  \n5097  0.011929  \n\n[5098 rows x 8 columns]",
      "text/html": "<div>\n<style scoped>\n    .dataframe tbody tr th:only-of-type {\n        vertical-align: middle;\n    }\n\n    .dataframe tbody tr th {\n        vertical-align: top;\n    }\n\n    .dataframe thead th {\n        text-align: right;\n    }\n</style>\n<table border=\"1\" class=\"dataframe\">\n  <thead>\n    <tr style=\"text-align: right;\">\n      <th></th>\n      <th>date</th>\n      <th>open</th>\n      <th>high</th>\n      <th>low</th>\n      <th>close</th>\n      <th>volume</th>\n      <th>outstanding_share</th>\n      <th>turnover</th>\n    </tr>\n  </thead>\n  <tbody>\n    <tr>\n      <th>0</th>\n      <td>2000-01-04</td>\n      <td>3.33</td>\n      <td>3.53</td>\n      <td>3.27</td>\n      <td>3.48</td>\n      <td>8216100.0</td>\n      <td>1.070910e+09</td>\n      <td>0.007672</td>\n    </tr>\n    <tr>\n      <th>1</th>\n      <td>2000-01-05</td>\n      <td>3.49</td>\n      <td>3.59</td>\n      <td>3.43</td>\n      <td>3.44</td>\n      <td>9399300.0</td>\n      <td>1.070910e+09</td>\n      <td>0.008777</td>\n    </tr>\n    <tr>\n      <th>2</th>\n      <td>2000-01-06</td>\n      <td>3.43</td>\n      <td>3.63</td>\n      <td>3.38</td>\n      <td>3.57</td>\n      <td>12022200.0</td>\n      <td>1.070910e+09</td>\n      <td>0.011226</td>\n    </tr>\n    <tr>\n      <th>3</th>\n      <td>2000-01-07</td>\n      <td>3.62</td>\n      <td>3.76</td>\n      <td>3.60</td>\n      <td>3.72</td>\n      <td>22934600.0</td>\n      <td>1.070910e+09</td>\n      <td>0.021416</td>\n    </tr>\n    <tr>\n      <th>4</th>\n      <td>2000-01-10</td>\n      <td>3.77</td>\n      <td>3.90</td>\n      <td>3.76</td>\n      <td>3.83</td>\n      <td>18521100.0</td>\n      <td>1.070910e+09</td>\n      <td>0.017295</td>\n    </tr>\n    <tr>\n      <th>...</th>\n      <td>...</td>\n      <td>...</td>\n      <td>...</td>\n      <td>...</td>\n      <td>...</td>\n      <td>...</td>\n      <td>...</td>\n      <td>...</td>\n    </tr>\n    <tr>\n      <th>5093</th>\n      <td>2021-09-06</td>\n      <td>17.93</td>\n      <td>18.60</td>\n      <td>17.78</td>\n      <td>18.45</td>\n      <td>151522556.0</td>\n      <td>1.940575e+10</td>\n      <td>0.007808</td>\n    </tr>\n    <tr>\n      <th>5094</th>\n      <td>2021-09-07</td>\n      <td>18.60</td>\n      <td>19.56</td>\n      <td>18.35</td>\n      <td>19.24</td>\n      <td>162234416.0</td>\n      <td>1.940575e+10</td>\n      <td>0.008360</td>\n    </tr>\n    <tr>\n      <th>5095</th>\n      <td>2021-09-08</td>\n      <td>19.24</td>\n      <td>19.55</td>\n      <td>19.10</td>\n      <td>19.23</td>\n      <td>102620105.0</td>\n      <td>1.940575e+10</td>\n      <td>0.005288</td>\n    </tr>\n    <tr>\n      <th>5096</th>\n      <td>2021-09-09</td>\n      <td>19.11</td>\n      <td>19.15</td>\n      <td>18.80</td>\n      <td>19.00</td>\n      <td>73950585.0</td>\n      <td>1.940575e+10</td>\n      <td>0.003811</td>\n    </tr>\n    <tr>\n      <th>5097</th>\n      <td>2021-09-10</td>\n      <td>18.89</td>\n      <td>20.77</td>\n      <td>18.84</td>\n      <td>20.57</td>\n      <td>231494528.0</td>\n      <td>1.940575e+10</td>\n      <td>0.011929</td>\n    </tr>\n  </tbody>\n</table>\n<p>5098 rows × 8 columns</p>\n</div>"
     },
     "execution_count": 3,
     "metadata": {},
     "output_type": "execute_result"
    }
   ],
   "source": [
    "import akshare as ak\n",
    "\n",
    "dd = ak.stock_zh_a_daily(symbol='sz000001',start_date = '20000101',end_date = '20210910', adjust=\"qfq\")\n",
    "dd"
   ]
  }
 ],
 "metadata": {
  "kernelspec": {
   "display_name": "Python 3",
   "language": "python",
   "name": "python3"
  },
  "language_info": {
   "codemirror_mode": {
    "name": "ipython",
    "version": 2
   },
   "file_extension": ".py",
   "mimetype": "text/x-python",
   "name": "python",
   "nbconvert_exporter": "python",
   "pygments_lexer": "ipython2",
   "version": "2.7.6"
  }
 },
 "nbformat": 4,
 "nbformat_minor": 0
}