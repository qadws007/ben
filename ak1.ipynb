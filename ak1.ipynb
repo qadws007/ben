{
 "cells": [
  {
   "cell_type": "code",
   "execution_count": 15,
   "metadata": {
    "collapsed": true
   },
   "outputs": [
    {
     "data": {
      "text/plain": "         date   open   high    low  close      volume  outstanding_share  \\\n0  2021-05-06  52.00  67.68  50.08  67.36  10737322.0         14558920.0   \n1  2021-05-07  68.00  68.00  55.00  58.58   6692524.0         14558920.0   \n2  2021-05-10  58.01  71.18  58.00  66.01   5345115.0         14558920.0   \n3  2021-05-11  65.00  73.50  62.97  72.90   4805105.0         14558920.0   \n4  2021-05-12  70.40  72.45  68.21  69.50   3321037.0         14558920.0   \n..        ...    ...    ...    ...    ...         ...                ...   \n86 2021-09-06  72.00  74.45  71.10  74.05    399099.0         14558920.0   \n87 2021-09-07  73.21  75.80  73.03  74.00    435675.0         14558920.0   \n88 2021-09-08  75.80  75.80  71.13  72.39    410319.0         14558920.0   \n89 2021-09-09  71.16  72.87  71.16  72.36    227700.0         14558920.0   \n90 2021-09-10  73.43  73.45  68.61  68.80    590155.0         14558920.0   \n\n    turnover  \n0   0.737508  \n1   0.459685  \n2   0.367137  \n3   0.330045  \n4   0.228110  \n..       ...  \n86  0.027413  \n87  0.029925  \n88  0.028183  \n89  0.015640  \n90  0.040536  \n\n[91 rows x 8 columns]",
      "text/html": "<div>\n<style scoped>\n    .dataframe tbody tr th:only-of-type {\n        vertical-align: middle;\n    }\n\n    .dataframe tbody tr th {\n        vertical-align: top;\n    }\n\n    .dataframe thead th {\n        text-align: right;\n    }\n</style>\n<table border=\"1\" class=\"dataframe\">\n  <thead>\n    <tr style=\"text-align: right;\">\n      <th></th>\n      <th>date</th>\n      <th>open</th>\n      <th>high</th>\n      <th>low</th>\n      <th>close</th>\n      <th>volume</th>\n      <th>outstanding_share</th>\n      <th>turnover</th>\n    </tr>\n  </thead>\n  <tbody>\n    <tr>\n      <th>0</th>\n      <td>2021-05-06</td>\n      <td>52.00</td>\n      <td>67.68</td>\n      <td>50.08</td>\n      <td>67.36</td>\n      <td>10737322.0</td>\n      <td>14558920.0</td>\n      <td>0.737508</td>\n    </tr>\n    <tr>\n      <th>1</th>\n      <td>2021-05-07</td>\n      <td>68.00</td>\n      <td>68.00</td>\n      <td>55.00</td>\n      <td>58.58</td>\n      <td>6692524.0</td>\n      <td>14558920.0</td>\n      <td>0.459685</td>\n    </tr>\n    <tr>\n      <th>2</th>\n      <td>2021-05-10</td>\n      <td>58.01</td>\n      <td>71.18</td>\n      <td>58.00</td>\n      <td>66.01</td>\n      <td>5345115.0</td>\n      <td>14558920.0</td>\n      <td>0.367137</td>\n    </tr>\n    <tr>\n      <th>3</th>\n      <td>2021-05-11</td>\n      <td>65.00</td>\n      <td>73.50</td>\n      <td>62.97</td>\n      <td>72.90</td>\n      <td>4805105.0</td>\n      <td>14558920.0</td>\n      <td>0.330045</td>\n    </tr>\n    <tr>\n      <th>4</th>\n      <td>2021-05-12</td>\n      <td>70.40</td>\n      <td>72.45</td>\n      <td>68.21</td>\n      <td>69.50</td>\n      <td>3321037.0</td>\n      <td>14558920.0</td>\n      <td>0.228110</td>\n    </tr>\n    <tr>\n      <th>...</th>\n      <td>...</td>\n      <td>...</td>\n      <td>...</td>\n      <td>...</td>\n      <td>...</td>\n      <td>...</td>\n      <td>...</td>\n      <td>...</td>\n    </tr>\n    <tr>\n      <th>86</th>\n      <td>2021-09-06</td>\n      <td>72.00</td>\n      <td>74.45</td>\n      <td>71.10</td>\n      <td>74.05</td>\n      <td>399099.0</td>\n      <td>14558920.0</td>\n      <td>0.027413</td>\n    </tr>\n    <tr>\n      <th>87</th>\n      <td>2021-09-07</td>\n      <td>73.21</td>\n      <td>75.80</td>\n      <td>73.03</td>\n      <td>74.00</td>\n      <td>435675.0</td>\n      <td>14558920.0</td>\n      <td>0.029925</td>\n    </tr>\n    <tr>\n      <th>88</th>\n      <td>2021-09-08</td>\n      <td>75.80</td>\n      <td>75.80</td>\n      <td>71.13</td>\n      <td>72.39</td>\n      <td>410319.0</td>\n      <td>14558920.0</td>\n      <td>0.028183</td>\n    </tr>\n    <tr>\n      <th>89</th>\n      <td>2021-09-09</td>\n      <td>71.16</td>\n      <td>72.87</td>\n      <td>71.16</td>\n      <td>72.36</td>\n      <td>227700.0</td>\n      <td>14558920.0</td>\n      <td>0.015640</td>\n    </tr>\n    <tr>\n      <th>90</th>\n      <td>2021-09-10</td>\n      <td>73.43</td>\n      <td>73.45</td>\n      <td>68.61</td>\n      <td>68.80</td>\n      <td>590155.0</td>\n      <td>14558920.0</td>\n      <td>0.040536</td>\n    </tr>\n  </tbody>\n</table>\n<p>91 rows × 8 columns</p>\n</div>"
     },
     "execution_count": 15,
     "metadata": {},
     "output_type": "execute_result"
    }
   ],
   "source": [
    "import akshare as ak\n",
    "\n",
    "dd = ak.stock_zh_a_daily(symbol='sh688113',start_date = '20100101',end_date = '20210910', adjust=\"qfq\")\n",
    "dd"
   ]
  }
 ],
 "metadata": {
  "kernelspec": {
   "display_name": "Python 3",
   "language": "python",
   "name": "python3"
  },
  "language_info": {
   "codemirror_mode": {
    "name": "ipython",
    "version": 2
   },
   "file_extension": ".py",
   "mimetype": "text/x-python",
   "name": "python",
   "nbconvert_exporter": "python",
   "pygments_lexer": "ipython2",
   "version": "2.7.6"
  }
 },
 "nbformat": 4,
 "nbformat_minor": 0
}